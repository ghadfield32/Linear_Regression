{
 "cells": [
  {
   "cell_type": "code",
   "execution_count": 2,
   "metadata": {},
   "outputs": [],
   "source": [
    "import numpy as np\n",
    "import matplotlib.pyplot as plt\n",
    "import pandas as pd\n",
    "import seaborn as sns"
   ]
  },
  {
   "cell_type": "code",
   "execution_count": 71,
   "metadata": {},
   "outputs": [
    {
     "name": "stdout",
     "output_type": "stream",
     "text": [
      "encoded_data =  Index(['SEASON_ID', 'TEAM_ABBREVIATION', 'TEAM_NAME', 'GAME_ID', 'GAME_DATE',\n",
      "       'MATCHUP', 'WL', 'MIN', 'PTS', 'FGM', 'FGA', 'FG_PCT', 'FG3M', 'FG3A',\n",
      "       'FG3_PCT', 'FTM', 'FTA', 'FT_PCT', 'OREB', 'DREB', 'REB', 'AST', 'STL',\n",
      "       'BLK', 'TOV', 'PF', 'PLUS_MINUS', 'PER', 'YEAR', 'MONTH'],\n",
      "      dtype='object')\n",
      "   SEASON_ID TEAM_ABBREVIATION           TEAM_NAME     GAME_ID  GAME_DATE  \\\n",
      "6      42022               DEN      Denver Nuggets  0042200313 2023-05-20   \n",
      "8      42022               LAL  Los Angeles Lakers  0042200313 2023-05-20   \n",
      "14     42022               MIA          Miami Heat  0042200302 2023-05-19   \n",
      "15     42022               BOS      Boston Celtics  0042200302 2023-05-19   \n",
      "23     42022               DEN      Denver Nuggets  0042200312 2023-05-18   \n",
      "\n",
      "        MATCHUP WL  MIN  PTS  FGM  ...  AST  STL  BLK  TOV  PF  PLUS_MINUS  \\\n",
      "6     DEN @ LAL  W  239  119   44  ...   30    7    1    5  19        11.0   \n",
      "8   LAL vs. DEN  L  242  108   38  ...   27    3    2   12  18       -11.0   \n",
      "14    MIA @ BOS  W  241  111   42  ...   23    9    5   10  17         6.0   \n",
      "15  BOS vs. MIA  L  240  105   37  ...   22    2    9   15  20        -6.0   \n",
      "23  DEN vs. LAL  W  241  108   39  ...   27    8    2   15  18         5.0   \n",
      "\n",
      "    PER  YEAR  MONTH  WL_encoded  \n",
      "6   133  2023      5           1  \n",
      "8   113  2023      5           0  \n",
      "14  123  2023      5           1  \n",
      "15  100  2023      5           0  \n",
      "23  124  2023      5           1  \n",
      "\n",
      "[5 rows x 31 columns]\n"
     ]
    },
    {
     "name": "stderr",
     "output_type": "stream",
     "text": [
      "C:\\Users\\ghadf\\AppData\\Local\\Temp\\ipykernel_3940\\3810520137.py:20: SettingWithCopyWarning: \n",
      "A value is trying to be set on a copy of a slice from a DataFrame.\n",
      "Try using .loc[row_indexer,col_indexer] = value instead\n",
      "\n",
      "See the caveats in the documentation: https://pandas.pydata.org/pandas-docs/stable/user_guide/indexing.html#returning-a-view-versus-a-copy\n",
      "  data['PER'] = (data['PTS'] + data['REB'] + data['AST'] + data['STL'] + data['BLK'] -\n",
      "C:\\Users\\ghadf\\AppData\\Local\\Temp\\ipykernel_3940\\3810520137.py:27: SettingWithCopyWarning: \n",
      "A value is trying to be set on a copy of a slice from a DataFrame.\n",
      "Try using .loc[row_indexer,col_indexer] = value instead\n",
      "\n",
      "See the caveats in the documentation: https://pandas.pydata.org/pandas-docs/stable/user_guide/indexing.html#returning-a-view-versus-a-copy\n",
      "  data['GAME_DATE'] = pd.to_datetime(data['GAME_DATE'])\n",
      "C:\\Users\\ghadf\\AppData\\Local\\Temp\\ipykernel_3940\\3810520137.py:30: SettingWithCopyWarning: \n",
      "A value is trying to be set on a copy of a slice from a DataFrame.\n",
      "Try using .loc[row_indexer,col_indexer] = value instead\n",
      "\n",
      "See the caveats in the documentation: https://pandas.pydata.org/pandas-docs/stable/user_guide/indexing.html#returning-a-view-versus-a-copy\n",
      "  data['YEAR'] = data['GAME_DATE'].dt.year\n",
      "C:\\Users\\ghadf\\AppData\\Local\\Temp\\ipykernel_3940\\3810520137.py:31: SettingWithCopyWarning: \n",
      "A value is trying to be set on a copy of a slice from a DataFrame.\n",
      "Try using .loc[row_indexer,col_indexer] = value instead\n",
      "\n",
      "See the caveats in the documentation: https://pandas.pydata.org/pandas-docs/stable/user_guide/indexing.html#returning-a-view-versus-a-copy\n",
      "  data['MONTH'] = data['GAME_DATE'].dt.month\n",
      "C:\\Users\\ghadf\\AppData\\Local\\Temp\\ipykernel_3940\\3810520137.py:32: SettingWithCopyWarning: \n",
      "A value is trying to be set on a copy of a slice from a DataFrame.\n",
      "Try using .loc[row_indexer,col_indexer] = value instead\n",
      "\n",
      "See the caveats in the documentation: https://pandas.pydata.org/pandas-docs/stable/user_guide/indexing.html#returning-a-view-versus-a-copy\n",
      "  data['DAY'] = data['GAME_DATE'].dt.day\n"
     ]
    }
   ],
   "source": [
    "from nba_api.stats.static import teams \n",
    "from nba_api.stats.endpoints import leaguegamefinder \n",
    "import pandas as pd\n",
    "import csv\n",
    "\n",
    "teams = teams.get_teams()\n",
    "#print(teams)\n",
    "\n",
    "all_games = leaguegamefinder.LeagueGameFinder().get_data_frames()[0]\n",
    "\n",
    "# List of current NBA team IDs\n",
    "current_teams = [1610612737, 1610612738, 1610612740, 1610612741, 1610612742, 1610612743, 1610612744, 1610612745, 1610612746, 1610612747, 1610612748, 1610612749, 1610612750, 1610612751, 1610612752, 1610612753, 1610612754, 1610612755, 1610612756, 1610612757, 1610612758, 1610612759, 1610612760, 1610612761, 1610612762, 1610612763, 1610612764, 1610612765, 1610612766]\n",
    "#print(current_teams)\n",
    "\n",
    "# Filter the data to include only current NBA teams\n",
    "data = all_games[all_games['TEAM_ID'].isin(current_teams)]\n",
    "#print('base_data = ',data.columns)\n",
    "\n",
    "#adding PER\n",
    "data['PER'] = (data['PTS'] + data['REB'] + data['AST'] + data['STL'] + data['BLK'] -\n",
    "             data['FGM'] - data['FTM'] - data['TOV'])\n",
    "\n",
    "\n",
    "#***PRE PROCESSING***\n",
    "#*Date transformations\n",
    "# Convert the date column to datetime format\n",
    "data['GAME_DATE'] = pd.to_datetime(data['GAME_DATE'])\n",
    "\n",
    "# Extract numerical features from the date column\n",
    "data['YEAR'] = data['GAME_DATE'].dt.year\n",
    "data['MONTH'] = data['GAME_DATE'].dt.month\n",
    "data['DAY'] = data['GAME_DATE'].dt.day\n",
    "\n",
    "#**Convert all non-numeric values in a column\n",
    "# Encode non-numeric values in the 'TEAM_ID' column as categorical variables\n",
    "data_encoded = pd.get_dummies(data, columns=['TEAM_ID'], prefix='TEAM')\n",
    "\n",
    "#**Drop Missing values\n",
    "# Drop rows with missing values\n",
    "data_encoded = data_encoded.dropna()\n",
    "\n",
    "# Filter the data to include only selected columns\n",
    "data_encoded_selected = data_encoded.iloc[:, :30]\n",
    "\n",
    "# Get Unique Teams prior to modeling <takes out all the other games for these teams, find why Mavs are showing up twice in final set>\n",
    "#data_encoded_unique = data_encoded_selected.drop_duplicates(subset='TEAM_NAME').copy()\n",
    "\n",
    "# Check the updated column names in the DataFrame\n",
    "print('encoded_data = ',data_encoded_selected.columns)\n",
    "#print(data_encoded_selected)\n",
    "\n",
    "# Filter the data for the 2022-2023 NBA season\n",
    "start_date = pd.to_datetime('2022-10-01')\n",
    "end_date = pd.to_datetime('2023-06-30')\n",
    "season_data = data_encoded_selected[(data_encoded_selected['GAME_DATE'] >= start_date) & (data_encoded_selected['GAME_DATE'] <= end_date)].copy()\n",
    "\n",
    "# Encode 'WL' column as 1 for 'W' (win) and 0 for 'L' (loss)\n",
    "season_data['WL_encoded'] = season_data['WL'].apply(lambda x: 1 if x == 'W' else 0)\n",
    "print(season_data.head())\n",
    "\n"
   ]
  },
  {
   "cell_type": "code",
   "execution_count": 34,
   "metadata": {},
   "outputs": [
    {
     "name": "stderr",
     "output_type": "stream",
     "text": [
      "C:\\Users\\ghadf\\AppData\\Local\\Temp\\ipykernel_3940\\2777229067.py:4: FutureWarning: The default value of numeric_only in DataFrame.corr is deprecated. In a future version, it will default to False. Select only valid columns or specify the value of numeric_only to silence this warning.\n",
      "  sns.heatmap(season_data.corr()) #coor for coordinates\n"
     ]
    },
    {
     "data": {
      "text/plain": [
       "<Axes: >"
      ]
     },
     "execution_count": 34,
     "metadata": {},
     "output_type": "execute_result"
    },
    {
     "data": {
      "image/png": "[encoded data removed]",
      "text/plain": [
       "<Figure size 640x480 with 2 Axes>"
      ]
     },
     "metadata": {},
     "output_type": "display_data"
    }
   ],
   "source": [
    "# Data Visualization to understand the variables better\n",
    "# Heat Map\n",
    "\n",
    "sns.heatmap(season_data.corr()) #coor for coordinates\n"
   ]
  },
  {
   "cell_type": "code",
   "execution_count": 84,
   "metadata": {},
   "outputs": [
    {
     "name": "stdout",
     "output_type": "stream",
     "text": [
      "Shape of X: (2659, 2)\n",
      "Shape of y: (2659,)\n"
     ]
    },
    {
     "name": "stderr",
     "output_type": "stream",
     "text": [
      "C:\\Users\\ghadf\\AppData\\Local\\Temp\\ipykernel_3940\\2795015454.py:30: SettingWithCopyWarning: \n",
      "A value is trying to be set on a copy of a slice from a DataFrame\n",
      "\n",
      "See the caveats in the documentation: https://pandas.pydata.org/pandas-docs/stable/user_guide/indexing.html#returning-a-view-versus-a-copy\n",
      "  X.dropna(inplace=True)\n"
     ]
    }
   ],
   "source": [
    "import pandas as pd\n",
    "from sklearn.model_selection import train_test_split\n",
    "from sklearn.linear_model import LinearRegression\n",
    "from sklearn.metrics import mean_squared_error, r2_score\n",
    "from sklearn.preprocessing import LabelEncoder, OneHotEncoder\n",
    "from sklearn.svm import SVC\n",
    "from sklearn.ensemble import RandomForestClassifier\n",
    "\n",
    "# Define the columns for the dependent (y) and independent (X) variables\n",
    "X_columns = ['PLUS_MINUS', 'PER']  # Update the column names here\n",
    "y_column = 'WL_encoded'\n",
    "\n",
    "# Update season_data with encoded features\n",
    "labelencoder = LabelEncoder()\n",
    "season_data['TEAM_NAME'] = labelencoder.fit_transform(season_data['TEAM_NAME'])\n",
    "season_data['MATCHUP'] = labelencoder.fit_transform(season_data['MATCHUP'])\n",
    "\n",
    "categorical_columns = ['TEAM_NAME', 'MATCHUP', 'YEAR', 'MONTH']\n",
    "onehotencoder = OneHotEncoder()\n",
    "X_encoded = onehotencoder.fit_transform(season_data[categorical_columns]).toarray()\n",
    "\n",
    "X_encoded_df = pd.DataFrame(X_encoded, columns=onehotencoder.get_feature_names_out(categorical_columns))\n",
    "season_data_encoded = pd.concat([season_data.drop(categorical_columns, axis=1), season_data['TEAM_NAME'], X_encoded_df], axis=1)\n",
    "\n",
    "# Define X and y using the updated season_data_encoded\n",
    "X = season_data_encoded[X_columns]\n",
    "y = season_data_encoded[y_column]\n",
    "\n",
    "# Drop rows with missing values\n",
    "X.dropna(inplace=True)\n",
    "y = y[X.index]\n",
    "\n",
    "# Reset the index of X and y to align with each other\n",
    "X.reset_index(drop=True, inplace=True)\n",
    "y.reset_index(drop=True, inplace=True)\n",
    "\n",
    "# Confirm the shape of X and y after handling missing values\n",
    "print(\"Shape of X:\", X.shape)\n",
    "print(\"Shape of y:\", y.shape)\n",
    "\n"
   ]
  },
  {
   "cell_type": "code",
   "execution_count": 95,
   "metadata": {},
   "outputs": [
    {
     "name": "stdout",
     "output_type": "stream",
     "text": [
      "LR Mean squared error: 0.09\n",
      "LR R-squared: 0.62\n",
      "SVM Mean squared error: 0.00\n",
      "SVM R-squared: 1.00\n",
      "Random Forest Mean squared error: 0.00\n",
      "Random Forest R-squared: 1.00\n",
      "     Team  Probability\n",
      "488    23     2.044657\n",
      "467    19     1.841844\n",
      "193    26     1.726440\n",
      "163     2     1.705587\n",
      "341     5     1.688542\n",
      "..    ...          ...\n",
      "420    12    -0.608876\n",
      "335    13    -0.671148\n",
      "527     3    -0.679527\n",
      "172    28    -0.701903\n",
      "187    25    -0.748654\n",
      "\n",
      "[532 rows x 2 columns]\n",
      "     Team  Probability\n",
      "266    20          1.0\n",
      "179    15          1.0\n",
      "312    13          1.0\n",
      "310    21          1.0\n",
      "309    25          1.0\n",
      "..    ...          ...\n",
      "308     1          0.0\n",
      "306    16          0.0\n",
      "305    10          0.0\n",
      "116    20          0.0\n",
      "0      27          0.0\n",
      "\n",
      "[532 rows x 2 columns]\n"
     ]
    }
   ],
   "source": [
    "\n",
    "\n",
    "# Perform one-hot encoding on categorical variables\n",
    "#categorical_columns = [ 'TEAM_ABBREVIATION', 'TEAM_NAME', 'MATCHUP', 'PER', 'YEAR', 'MONTH']\n",
    "#encoder = OneHotEncoder(sparse=False, handle_unknown='ignore')\n",
    "#X_encoded = pd.DataFrame(encoder.fit_transform(X[categorical_columns]))\n",
    "\n",
    "# Combine encoded features with the remaining numeric columns\n",
    "#X_encoded.columns = encoder.get_feature_names_out(categorical_columns)\n",
    "#X = pd.concat([X.drop(categorical_columns, axis=1), X_encoded], axis=1)\n",
    "\n",
    "\n",
    "# Split the data into a training set and a test set\n",
    "X_train, X_test, y_train, y_test = train_test_split(X, y, test_size=0.2, random_state=42, shuffle=False)\n",
    "\n",
    "# Create a linear regression model and fit it to the training data\n",
    "lr_model = LinearRegression()\n",
    "lr_model.fit(X_train, y_train)\n",
    "\n",
    "# Use the trained model to predict the NBA championship winner based on the test data\n",
    "y_pred_lr = lr_model.predict(X_test)\n",
    "\n",
    "# Create an SVM model and fit it to the training data\n",
    "svm_model = SVC()\n",
    "svm_model.fit(X_train, y_train)\n",
    "\n",
    "# Use the trained SVM model to predict the NBA championship winner based on the test data\n",
    "y_pred_svm = svm_model.predict(X_test)\n",
    "\n",
    "# Create a random forest model and fit it to the training data\n",
    "rf_model = RandomForestClassifier()\n",
    "rf_model.fit(X_train, y_train)\n",
    "\n",
    "# Use the trained random forest model to predict the NBA championship winner based on the test data\n",
    "y_pred_rf = rf_model.predict(X_test)\n",
    "\n",
    "# Evaluate the accuracy of the model using mean squared error and R-squared\n",
    "mse_lr = mean_squared_error(y_test, y_pred_lr)\n",
    "r2_lr = r2_score(y_test, y_pred_lr)\n",
    "\n",
    "print(f\"LR Mean squared error: {mse_lr:.2f}\")\n",
    "print(f\"LR R-squared: {r2_lr:.2f}\")\n",
    "\n",
    "# Evaluate the accuracy of the SVM model using mean squared error and R-squared\n",
    "mse_svm = mean_squared_error(y_test, y_pred_svm)\n",
    "r2_svm = r2_score(y_test, y_pred_svm)\n",
    "\n",
    "print(f\"SVM Mean squared error: {mse_svm:.2f}\")\n",
    "print(f\"SVM R-squared: {r2_svm:.2f}\")\n",
    "\n",
    "# Evaluate the accuracy of the random forest model using mean squared error and R-squared\n",
    "mse_rf = mean_squared_error(y_test, y_pred_rf)\n",
    "r2_rf = r2_score(y_test, y_pred_rf)\n",
    "\n",
    "print(f\"Random Forest Mean squared error: {mse_rf:.2f}\")\n",
    "print(f\"Random Forest R-squared: {r2_rf:.2f}\")\n",
    "\n",
    "# Reset the index of y_test to align with the indices of season_data_encoded\n",
    "y_test.reset_index(drop=True, inplace=True)\n",
    "\n",
    "# Get the team names from the original dataset\n",
    "#team_names = season_data.loc[X_test.index, 'TEAM_NAME'].reset_index(drop=True)\n",
    "#team_names = season_data.loc[X_test.index.values, 'TEAM_NAME'].reset_index(drop=True)\n",
    "team_names = season_data.reset_index().loc[X_test.index, 'TEAM_NAME'].reset_index(drop=True)\n",
    "\n",
    "# Create a DataFrame with team names and predicted probabilities for linear regression\n",
    "probabilities_df_lr = pd.DataFrame({'Team': team_names, 'Probability': y_pred_lr})\n",
    "\n",
    "# Sort the DataFrame by probabilities in descending order for linear regression\n",
    "probabilities_df_lr = probabilities_df_lr.sort_values('Probability', ascending=False)\n",
    "\n",
    "# Print the table of teams with their probabilities for linear regression\n",
    "print(probabilities_df_lr)\n",
    "\n",
    "# Create a DataFrame with team names and predicted probabilities for random forest\n",
    "probabilities_df_rf = pd.DataFrame({'Team': team_names, 'Probability': y_pred_rf})\n",
    "\n",
    "# Sort the DataFrame by probabilities in descending order for random forest\n",
    "probabilities_df_rf = probabilities_df_rf.sort_values('Probability', ascending=False)\n",
    "\n",
    "# Print the table of teams with their probabilities for random forest\n",
    "print(probabilities_df_rf)\n",
    "\n"
   ]
  },
  {
   "cell_type": "code",
   "execution_count": null,
   "metadata": {},
   "outputs": [],
   "source": [
    "#Predict Template\n",
    "# Split the data into a training set and a test set\n",
    "X_train, X_test, y_train, y_test = train_test_split(X, y, test_size=0.2, random_state=42, shuffle=False)\n",
    "\n",
    "# Create a linear regression model and fit it to the training data\n",
    "lr_model = LinearRegression()\n",
    "lr_model.fit(X_train, y_train)\n",
    "\n",
    "# Use the trained model to predict the NBA championship winner based on the test data\n",
    "y_pred_lr = lr_model.predict(X_test)\n",
    "\n",
    "# Evaluate the accuracy of the model using mean squared error and R-squared\n",
    "mse_lr = mean_squared_error(y_test, y_pred_lr)\n",
    "r2_lr = r2_score(y_test, y_pred_lr)\n",
    "\n",
    "print(f\"LR Mean squared error: {mse_lr:.2f}\")\n",
    "print(f\"LR R-squared: {r2_lr:.2f}\")"
   ]
  },
  {
   "cell_type": "code",
   "execution_count": 98,
   "metadata": {},
   "outputs": [
    {
     "name": "stdout",
     "output_type": "stream",
     "text": [
      "coeff =  [ 0.02923187 -0.0007617 ]\n",
      "intercepts =  0.5936270534038065\n"
     ]
    }
   ],
   "source": [
    "# **Behind the scenes LR:\n",
    "# Calculating the Coefficients\n",
    "print('coeffs = ',lr_model.coef_)\n",
    "\n",
    "# Calc the Intercepts\n",
    "print('intercepts = ',lr_model.intercept_)"
   ]
  },
  {
   "cell_type": "code",
   "execution_count": 100,
   "metadata": {},
   "outputs": [
    {
     "name": "stdout",
     "output_type": "stream",
     "text": [
      "r2 =  0.6218899103524678\n"
     ]
    }
   ],
   "source": [
    "# Calc the R_sq_score\n",
    "from sklearn.metrics import r2_score\n",
    "r2_lr2 = r2_score(y_test, y_pred_lr)\n",
    "\n",
    "print(\"r2 = \",r2_lr2)"
   ]
  }
 ],
 "metadata": {
  "kernelspec": {
   "display_name": "Python 3",
   "language": "python",
   "name": "python3"
  },
  "language_info": {
   "codemirror_mode": {
    "name": "ipython",
    "version": 3
   },
   "file_extension": ".py",
   "mimetype": "text/x-python",
   "name": "python",
   "nbconvert_exporter": "python",
   "pygments_lexer": "ipython3",
   "version": "3.11.2"
  },
  "orig_nbformat": 4
 },
 "nbformat": 4,
 "nbformat_minor": 2
}
