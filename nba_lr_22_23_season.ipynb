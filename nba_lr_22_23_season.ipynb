{
 "cells": [
  {
   "cell_type": "code",
   "execution_count": 2,
   "metadata": {},
   "outputs": [],
   "source": [
    "import numpy as np\n",
    "import matplotlib.pyplot as plt\n",
    "import pandas as pd\n",
    "import seaborn as sns"
   ]
  },
  {
   "cell_type": "code",
   "execution_count": 79,
   "metadata": {},
   "outputs": [
    {
     "name": "stdout",
     "output_type": "stream",
     "text": [
      "encoded_data =  Index(['SEASON_ID', 'TEAM_ABBREVIATION', 'TEAM_NAME', 'GAME_ID', 'GAME_DATE',\n",
      "       'MATCHUP', 'WL', 'MIN', 'PTS', 'FGM', 'FGA', 'FG_PCT', 'FG3M', 'FG3A',\n",
      "       'FG3_PCT', 'FTM', 'FTA', 'FT_PCT', 'OREB', 'DREB', 'REB', 'AST', 'STL',\n",
      "       'BLK', 'TOV', 'PF', 'PLUS_MINUS', 'PER', 'YEAR', 'MONTH', 'DAY'],\n",
      "      dtype='object')\n",
      "    SEASON_ID TEAM_ABBREVIATION       TEAM_NAME     GAME_ID  GAME_DATE  \\\n",
      "640     42022               MIA      Miami Heat  0042200405 2023-06-12   \n",
      "641     42022               DEN  Denver Nuggets  0042200405 2023-06-12   \n",
      "659     42022               DEN  Denver Nuggets  0042200404 2023-06-09   \n",
      "664     42022               MIA      Miami Heat  0042200404 2023-06-09   \n",
      "689     42022               DEN  Denver Nuggets  0042200403 2023-06-07   \n",
      "\n",
      "         MATCHUP WL  MIN  PTS  FGM  ...  STL  BLK  TOV  PF  PLUS_MINUS  PER  \\\n",
      "640    MIA @ DEN  L  240   89   33  ...    9    7    8  21        -5.0  112   \n",
      "641  DEN vs. MIA  W  240   94   38  ...    6    7   14  13         5.0  120   \n",
      "659    DEN @ MIA  W  242  108   39  ...   11    7    6  18        13.0  125   \n",
      "664  MIA vs. DEN  L  240   95   35  ...    2    3   14  19       -13.0   94   \n",
      "689    DEN @ MIA  W  238  109   41  ...    3    5   13  18        15.0  127   \n",
      "\n",
      "     YEAR  MONTH  DAY  WL_encoded  \n",
      "640  2023      6   12           0  \n",
      "641  2023      6   12           1  \n",
      "659  2023      6    9           1  \n",
      "664  2023      6    9           0  \n",
      "689  2023      6    7           1  \n",
      "\n",
      "[5 rows x 32 columns]\n"
     ]
    },
    {
     "name": "stderr",
     "output_type": "stream",
     "text": [
      "C:\\Users\\ghadf\\AppData\\Local\\Temp\\ipykernel_17372\\1010011058.py:20: SettingWithCopyWarning: \n",
      "A value is trying to be set on a copy of a slice from a DataFrame.\n",
      "Try using .loc[row_indexer,col_indexer] = value instead\n",
      "\n",
      "See the caveats in the documentation: https://pandas.pydata.org/pandas-docs/stable/user_guide/indexing.html#returning-a-view-versus-a-copy\n",
      "  data['PER'] = (data['PTS'] + data['REB'] + data['AST'] + data['STL'] + data['BLK'] -\n",
      "C:\\Users\\ghadf\\AppData\\Local\\Temp\\ipykernel_17372\\1010011058.py:27: SettingWithCopyWarning: \n",
      "A value is trying to be set on a copy of a slice from a DataFrame.\n",
      "Try using .loc[row_indexer,col_indexer] = value instead\n",
      "\n",
      "See the caveats in the documentation: https://pandas.pydata.org/pandas-docs/stable/user_guide/indexing.html#returning-a-view-versus-a-copy\n",
      "  data['GAME_DATE'] = pd.to_datetime(data['GAME_DATE'])\n",
      "C:\\Users\\ghadf\\AppData\\Local\\Temp\\ipykernel_17372\\1010011058.py:30: SettingWithCopyWarning: \n",
      "A value is trying to be set on a copy of a slice from a DataFrame.\n",
      "Try using .loc[row_indexer,col_indexer] = value instead\n",
      "\n",
      "See the caveats in the documentation: https://pandas.pydata.org/pandas-docs/stable/user_guide/indexing.html#returning-a-view-versus-a-copy\n",
      "  data['YEAR'] = data['GAME_DATE'].dt.year\n",
      "C:\\Users\\ghadf\\AppData\\Local\\Temp\\ipykernel_17372\\1010011058.py:31: SettingWithCopyWarning: \n",
      "A value is trying to be set on a copy of a slice from a DataFrame.\n",
      "Try using .loc[row_indexer,col_indexer] = value instead\n",
      "\n",
      "See the caveats in the documentation: https://pandas.pydata.org/pandas-docs/stable/user_guide/indexing.html#returning-a-view-versus-a-copy\n",
      "  data['MONTH'] = data['GAME_DATE'].dt.month\n",
      "C:\\Users\\ghadf\\AppData\\Local\\Temp\\ipykernel_17372\\1010011058.py:32: SettingWithCopyWarning: \n",
      "A value is trying to be set on a copy of a slice from a DataFrame.\n",
      "Try using .loc[row_indexer,col_indexer] = value instead\n",
      "\n",
      "See the caveats in the documentation: https://pandas.pydata.org/pandas-docs/stable/user_guide/indexing.html#returning-a-view-versus-a-copy\n",
      "  data['DAY'] = data['GAME_DATE'].dt.day\n"
     ]
    }
   ],
   "source": [
    "from nba_api.stats.static import teams \n",
    "from nba_api.stats.endpoints import leaguegamefinder \n",
    "import pandas as pd\n",
    "import csv\n",
    "\n",
    "teams = teams.get_teams()\n",
    "#print(teams)\n",
    "\n",
    "all_games = leaguegamefinder.LeagueGameFinder().get_data_frames()[0]\n",
    "\n",
    "# List of current NBA team IDs\n",
    "current_teams = [1610612737, 1610612738, 1610612740, 1610612741, 1610612742, 1610612743, 1610612744, 1610612745, 1610612746, 1610612747, 1610612748, 1610612749, 1610612750, 1610612751, 1610612752, 1610612753, 1610612754, 1610612755, 1610612756, 1610612757, 1610612758, 1610612759, 1610612760, 1610612761, 1610612762, 1610612763, 1610612764, 1610612765, 1610612766]\n",
    "#print(current_teams)\n",
    "\n",
    "# Filter the data to include only current NBA teams\n",
    "data = all_games[all_games['TEAM_ID'].isin(current_teams)]\n",
    "#print('base_data = ',data.columns)\n",
    "\n",
    "#adding PER\n",
    "data['PER'] = (data['PTS'] + data['REB'] + data['AST'] + data['STL'] + data['BLK'] -\n",
    "             data['FGM'] - data['FTM'] - data['TOV'])\n",
    "\n",
    "\n",
    "#***PRE PROCESSING***\n",
    "#*Date transformations\n",
    "# Convert the date column to datetime format\n",
    "data['GAME_DATE'] = pd.to_datetime(data['GAME_DATE'])\n",
    "\n",
    "# Extract numerical features from the date column\n",
    "data['YEAR'] = data['GAME_DATE'].dt.year\n",
    "data['MONTH'] = data['GAME_DATE'].dt.month\n",
    "data['DAY'] = data['GAME_DATE'].dt.day\n",
    "\n",
    "\n",
    "#**Convert all non-numeric values in a column\n",
    "# Encode non-numeric values in the 'TEAM_ID' column as categorical variables\n",
    "data_encoded = pd.get_dummies(data, columns=['TEAM_ID'], prefix='TEAM')\n",
    "\n",
    "#**Drop Missing values\n",
    "# Drop rows with missing values\n",
    "data_encoded = data_encoded.dropna()\n",
    "\n",
    "# Filter the data to include only selected columns\n",
    "data_encoded_selected = data_encoded.iloc[:, :31]\n",
    "\n",
    "# Get Unique Teams prior to modeling <takes out all the other games for these teams, find why Mavs are showing up twice in final set>\n",
    "#data_encoded_unique = data_encoded_selected.drop_duplicates(subset='TEAM_NAME').copy()\n",
    "\n",
    "# Check the updated column names in the DataFrame\n",
    "print('encoded_data = ',data_encoded_selected.columns)\n",
    "#print(data_encoded_selected)\n",
    "\n",
    "# Filter the data for the 2022-2023 NBA season\n",
    "#could also use season_id = 42022\n",
    "start_date = pd.to_datetime('2022-10-01')\n",
    "end_date = pd.to_datetime('2023-06-30')\n",
    "season_data = data_encoded_selected[(data_encoded_selected['GAME_DATE'] >= start_date) & (data_encoded_selected['GAME_DATE'] <= end_date)].copy()\n",
    "\n",
    "# Encode 'WL' column as 1 for 'W' (win) and 0 for 'L' (loss)\n",
    "season_data['WL_encoded'] = season_data['WL'].apply(lambda x: 1 if x == 'W' else 0)\n",
    "print(season_data.head())\n",
    "\n"
   ]
  },
  {
   "cell_type": "code",
   "execution_count": 80,
   "metadata": {},
   "outputs": [
    {
     "name": "stderr",
     "output_type": "stream",
     "text": [
      "C:\\Users\\ghadf\\AppData\\Local\\Temp\\ipykernel_17372\\2777229067.py:4: FutureWarning: The default value of numeric_only in DataFrame.corr is deprecated. In a future version, it will default to False. Select only valid columns or specify the value of numeric_only to silence this warning.\n",
      "  sns.heatmap(season_data.corr()) #coor for coordinates\n"
     ]
    },
    {
     "data": {
      "text/plain": [
       "<Axes: >"
      ]
     },
     "execution_count": 80,
     "metadata": {},
     "output_type": "execute_result"
    },
    {
     "data": {
      "image/png": "[encoded data removed]",
      "text/plain": [
       "<Figure size 640x480 with 2 Axes>"
      ]
     },
     "metadata": {},
     "output_type": "display_data"
    }
   ],
   "source": [
    "# Data Visualization to understand the variables better\n",
    "# Heat Map\n",
    "\n",
    "sns.heatmap(season_data.corr()) #coor for coordinates\n"
   ]
  },
  {
   "cell_type": "code",
   "execution_count": 81,
   "metadata": {},
   "outputs": [
    {
     "name": "stdout",
     "output_type": "stream",
     "text": [
      "    SEASON_ID TEAM_ABBREVIATION  TEAM_NAME     GAME_ID  GAME_DATE  MATCHUP WL  \\\n",
      "640     42022               MIA         14  0042200405 2023-06-12      819  L   \n",
      "641     42022               DEN          6  0042200405 2023-06-12      391  W   \n",
      "659     42022               DEN          6  0042200404 2023-06-09      362  W   \n",
      "664     42022               MIA         14  0042200404 2023-06-09      848  L   \n",
      "689     42022               DEN          6  0042200403 2023-06-07      362  W   \n",
      "\n",
      "     MIN  PTS  FGM  ...  STL  BLK  TOV  PF  PLUS_MINUS  PER  YEAR  MONTH  DAY  \\\n",
      "640  240   89   33  ...    9    7    8  21        -5.0  112  2023      6   12   \n",
      "641  240   94   38  ...    6    7   14  13         5.0  120  2023      6   12   \n",
      "659  242  108   39  ...   11    7    6  18        13.0  125  2023      6    9   \n",
      "664  240   95   35  ...    2    3   14  19       -13.0   94  2023      6    9   \n",
      "689  238  109   41  ...    3    5   13  18        15.0  127  2023      6    7   \n",
      "\n",
      "     WL_encoded  \n",
      "640           0  \n",
      "641           1  \n",
      "659           1  \n",
      "664           0  \n",
      "689           1  \n",
      "\n",
      "[5 rows x 32 columns]\n",
      "Shape of X: (2681, 2)\n",
      "Shape of y: (2681,)\n"
     ]
    },
    {
     "name": "stderr",
     "output_type": "stream",
     "text": [
      "C:\\Users\\ghadf\\AppData\\Local\\Temp\\ipykernel_17372\\4029996601.py:32: SettingWithCopyWarning: \n",
      "A value is trying to be set on a copy of a slice from a DataFrame\n",
      "\n",
      "See the caveats in the documentation: https://pandas.pydata.org/pandas-docs/stable/user_guide/indexing.html#returning-a-view-versus-a-copy\n",
      "  X.dropna(inplace=True)\n"
     ]
    }
   ],
   "source": [
    "import pandas as pd\n",
    "from sklearn.model_selection import train_test_split\n",
    "from sklearn.linear_model import LinearRegression\n",
    "from sklearn.metrics import mean_squared_error, r2_score\n",
    "from sklearn.preprocessing import LabelEncoder, OneHotEncoder\n",
    "from sklearn.svm import SVC\n",
    "from sklearn.ensemble import RandomForestClassifier\n",
    "\n",
    "# Define the columns for the dependent (y) and independent (X) variables\n",
    "#X_columns = ['PLUS_MINUS', 'PER','TEAM_NAME']  # Update the column names here\n",
    "X_columns = ['PLUS_MINUS', 'TEAM_NAME']  # Update the column names here\n",
    "y_column = 'WL_encoded'\n",
    "\n",
    "# Update season_data with encoded features\n",
    "labelencoder = LabelEncoder()\n",
    "season_data['TEAM_NAME'] = labelencoder.fit_transform(season_data['TEAM_NAME'])\n",
    "season_data['MATCHUP'] = labelencoder.fit_transform(season_data['MATCHUP'])\n",
    "print(season_data.head())\n",
    "\n",
    "categorical_columns = ['TEAM_NAME', 'MATCHUP','GAME_ID', 'YEAR', 'MONTH','DAY']\n",
    "onehotencoder = OneHotEncoder()\n",
    "X_encoded = onehotencoder.fit_transform(season_data[categorical_columns]).toarray()\n",
    "\n",
    "X_encoded_df = pd.DataFrame(X_encoded, columns=onehotencoder.get_feature_names_out(categorical_columns))\n",
    "season_data_encoded = pd.concat([season_data.drop(categorical_columns, axis=1), season_data['TEAM_NAME'], X_encoded_df], axis=1)\n",
    "\n",
    "# Define X and y using the updated season_data_encoded\n",
    "X = season_data_encoded[X_columns]\n",
    "y = season_data_encoded[y_column]\n",
    "\n",
    "# Drop rows with missing values\n",
    "X.dropna(inplace=True)\n",
    "y = y[X.index]\n",
    "\n",
    "# Reset the index of X and y to align with each other\n",
    "X.reset_index(drop=True, inplace=True)\n",
    "y.reset_index(drop=True, inplace=True)\n",
    "\n",
    "# Confirm the shape of X and y after handling missing values\n",
    "print(\"Shape of X:\", X.shape)\n",
    "print(\"Shape of y:\", y.shape)\n"
   ]
  },
  {
   "cell_type": "code",
   "execution_count": 82,
   "metadata": {},
   "outputs": [
    {
     "name": "stdout",
     "output_type": "stream",
     "text": [
      "Linear Regression Predictions:\n",
      "     TEAM_NAME  Probability TEAM_ABBREVIATION Prediction\n",
      "347        0.0     1.680744               ATL          W\n",
      "396       20.0     1.278041               ORL          W\n",
      "324       28.0     1.219758               WAS          W\n",
      "262        6.0     1.191843               DEN          W\n",
      "385       17.0     1.133672               NOP          W\n",
      "..         ...          ...               ...        ...\n",
      "479       21.0     0.011910               PHI          L\n",
      "104        4.0    -0.045816               CHI          L\n",
      "258       12.0    -0.074139               LAL          L\n",
      "267       17.0    -0.189367               NOP          L\n",
      "306       25.0    -0.333253               SAS          L\n",
      "\n",
      "[74 rows x 4 columns]\n"
     ]
    }
   ],
   "source": [
    "# Split the data into a training set and a test set\n",
    "X_train, X_test, y_train, y_test = train_test_split(X, y, test_size=0.2, random_state=42, shuffle=False)\n",
    "\n",
    "# Create a linear regression model and fit it to the training data\n",
    "lr_model = LinearRegression()\n",
    "lr_model.fit(X_train, y_train)\n",
    "\n",
    "# Use the trained model to predict the NBA championship winner based on the test data\n",
    "y_pred_lr = lr_model.predict(X_test)\n",
    "\n",
    "# Get the team names from the original dataset for the test set\n",
    "team_names_test = season_data_encoded.loc[X_test.index, 'TEAM_NAME'].reset_index(drop=True)\n",
    "\n",
    "# Create a DataFrame with team names and predicted probabilities for linear regression\n",
    "probabilities_df_lr = pd.DataFrame({'TEAM_NAME': team_names_test, 'Probability': y_pred_lr})\n",
    "\n",
    "# Remove duplicates from df1 based on 'player_name' column\n",
    "team_abbrev_unique = season_data.drop_duplicates(subset='TEAM_ABBREVIATION')\n",
    "\n",
    "# Perform the SQL join\n",
    "probabilities_df_lr = probabilities_df_lr.merge(team_abbrev_unique[['TEAM_NAME', 'TEAM_ABBREVIATION']], on='TEAM_NAME', how='left')\n",
    "\n",
    "# Map probabilities to binary outcomes (W or L) based on a threshold of 0.5\n",
    "probabilities_df_lr['Prediction'] = probabilities_df_lr['Probability'].apply(lambda x: 'W' if x >= 0.5 else 'L')\n",
    "\n",
    "# Reset the index of probabilities_df_lr for proper display\n",
    "probabilities_df_lr.reset_index(drop=True, inplace=True)\n",
    "\n",
    "# Drop any rows with missing team names (if any)\n",
    "probabilities_df_lr.dropna(subset=['TEAM_NAME'], inplace=True)\n",
    "\n",
    "# Sort the DataFrame by probabilities in descending order for linear regression\n",
    "probabilities_df_lr = probabilities_df_lr.sort_values('Probability', ascending=False)\n",
    "\n",
    "# Print the table of teams with their probabilities for linear regression\n",
    "print(\"Linear Regression Predictions:\")\n",
    "print(probabilities_df_lr)\n"
   ]
  },
  {
   "cell_type": "code",
   "execution_count": 83,
   "metadata": {},
   "outputs": [
    {
     "name": "stdout",
     "output_type": "stream",
     "text": [
      "LR Mean squared error: 0.09\n",
      "LR R-squared: 0.62\n"
     ]
    }
   ],
   "source": [
    "#Predict Template\n",
    "# Split the data into a training set and a test set\n",
    "X_train, X_test, y_train, y_test = train_test_split(X, y, test_size=0.2, random_state=42, shuffle=False)\n",
    "\n",
    "# Create a linear regression model and fit it to the training data\n",
    "lr_model = LinearRegression()\n",
    "lr_model.fit(X_train, y_train)\n",
    "\n",
    "# Use the trained model to predict the NBA championship winner based on the test data\n",
    "y_pred_lr = lr_model.predict(X_test)\n",
    "\n",
    "# Evaluate the accuracy of the model using mean squared error and R-squared\n",
    "mse_lr = mean_squared_error(y_test, y_pred_lr)\n",
    "r2_lr = r2_score(y_test, y_pred_lr)\n",
    "\n",
    "print(f\"LR Mean squared error: {mse_lr:.2f}\")\n",
    "print(f\"LR R-squared: {r2_lr:.2f}\")"
   ]
  },
  {
   "cell_type": "code",
   "execution_count": null,
   "metadata": {},
   "outputs": [],
   "source": []
  }
 ],
 "metadata": {
  "kernelspec": {
   "display_name": "Python 3",
   "language": "python",
   "name": "python3"
  },
  "language_info": {
   "codemirror_mode": {
    "name": "ipython",
    "version": 3
   },
   "file_extension": ".py",
   "mimetype": "text/x-python",
   "name": "python",
   "nbconvert_exporter": "python",
   "pygments_lexer": "ipython3",
   "version": "3.11.2"
  },
  "orig_nbformat": 4
 },
 "nbformat": 4,
 "nbformat_minor": 2
}
